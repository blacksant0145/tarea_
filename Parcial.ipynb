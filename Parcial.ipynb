{
  "nbformat": 4,
  "nbformat_minor": 0,
  "metadata": {
    "colab": {
      "provenance": [],
      "authorship_tag": "ABX9TyN1QVAkbfyOrOUgdbFDj33v",
      "include_colab_link": true
    },
    "kernelspec": {
      "name": "python3",
      "display_name": "Python 3"
    },
    "language_info": {
      "name": "python"
    }
  },
  "cells": [
    {
      "cell_type": "markdown",
      "metadata": {
        "id": "view-in-github",
        "colab_type": "text"
      },
      "source": [
        "<a href=\"https://colab.research.google.com/github/blacksant0145/tareas/blob/main/Parcial.ipynb\" target=\"_parent\"><img src=\"https://colab.research.google.com/assets/colab-badge.svg\" alt=\"Open In Colab\"/></a>"
      ]
    },
    {
      "cell_type": "code",
      "execution_count": 16,
      "metadata": {
        "colab": {
          "base_uri": "https://localhost:8080/"
        },
        "id": "6Z05ctRP8M8E",
        "outputId": "d4f70774-d73d-4a88-dd15-d22f75eb5c6d"
      },
      "outputs": [
        {
          "output_type": "stream",
          "name": "stdout",
          "text": [
            "Ingresa los valores de las resistencias separados por espacios: 100 2000 500 24 5\n",
            "La resistencia total del circuito es: 529.00 ohmios\n"
          ]
        }
      ],
      "source": [
        "recistencia = input(\"Ingresa los valores de las resistencias separados por espacios: \")\n",
        "resistencias = list(map(float, recistencia.split()))\n",
        "\n",
        "resistencia_total = 0\n",
        "resistencias_paralelo = []\n",
        "\n",
        "for r in resistencias:\n",
        "    if r < 10 or (10 <= r <= 100):\n",
        "        resistencia_total += r\n",
        "    elif r > 100:\n",
        "        resistencias_paralelo.append(r)\n",
        "\n",
        "if resistencias_paralelo:\n",
        "    resistencia_paralelo_total = 0\n",
        "    for rp in resistencias_paralelo:\n",
        "        resistencia_paralelo_total += 1 / rp\n",
        "    resistencia_paralelo_total = 1 / resistencia_paralelo_total\n",
        "    resistencia_total += resistencia_paralelo_total\n",
        "\n",
        "print(f\"La resistencia total del circuito es: {resistencia_total:.2f} ohmios\")"
      ]
    },
    {
      "cell_type": "code",
      "source": [
        "import random\n",
        "\n",
        "pares = [2, 4, 6, 8, 10, 12, 14, 16, 18, 20, 22, 24, 26, 28, 30, 32, 34, 36]\n",
        "impares = [1, 3, 5, 7, 9, 11, 13, 15, 17, 19, 21, 23, 25, 27, 29, 31, 33, 35]\n",
        "primera_docena = [1, 2, 3, 4, 5, 6, 7, 8, 9, 10, 11, 12]\n",
        "segunda_docena = [13, 14, 15, 16, 17, 18, 19, 20, 21, 22, 23, 24]\n",
        "tercera_docena = [25, 26, 27, 28, 29, 30, 31, 32, 33, 34, 35, 36]\n",
        "\n",
        "apuesta = int(input(\"a que número desea apostar (número del 1 al 36): \"))\n",
        "\n",
        "resultado = random.randint(0, 36)\n",
        "print(\"El resultado de la ruleta es:\",resultado)\n",
        "\n",
        "if apuesta == resultado:\n",
        "    print(\"¡Felicidades! Has acertado el número exacto.\")\n",
        "elif (apuesta in pares and resultado in pares) or (apuesta in impares and resultado in impares):\n",
        "    print(\"¡Has acertado la paridad del número!\")\n",
        "elif (apuesta in primera_docena and resultado in primera_docena) or (apuesta in segunda_docena and resultado in segunda_docena) or (apuesta in tercera_docena and resultado in tercera_docena):\n",
        "    print(\"¡Has acertado la docena del número!\")\n",
        "else:\n",
        "    print(\"Lo siento, no has acertado.\")\n"
      ],
      "metadata": {
        "colab": {
          "base_uri": "https://localhost:8080/"
        },
        "id": "N1TSpJVQ83GC",
        "outputId": "c5e7362f-b51c-4796-b797-c6ef6feb342d"
      },
      "execution_count": 3,
      "outputs": [
        {
          "output_type": "stream",
          "name": "stdout",
          "text": [
            "a que número desea apostar (número del 1 al 36): 100\n",
            "El resultado de la ruleta es: 20\n",
            "Lo siento, no has acertado.\n"
          ]
        }
      ]
    },
    {
      "cell_type": "code",
      "source": [],
      "metadata": {
        "colab": {
          "base_uri": "https://localhost:8080/"
        },
        "id": "IOrJEKTVAzaY",
        "outputId": "a5e2f3b2-2c26-4d53-da5d-af690bf1df95"
      },
      "execution_count": 15,
      "outputs": [
        {
          "output_type": "stream",
          "name": "stdout",
          "text": [
            "Ingresa los valores de las resistencias separados por espacios: 200 100 67 23 45 \n",
            "La resistencia total del circuito es: 435.00 ohmios\n"
          ]
        }
      ]
    }
  ]
}