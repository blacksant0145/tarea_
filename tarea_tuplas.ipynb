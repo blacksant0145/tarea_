{
  "nbformat": 4,
  "nbformat_minor": 0,
  "metadata": {
    "colab": {
      "provenance": [],
      "authorship_tag": "ABX9TyNrNNLGUAwg05Y1T2lbKkCC",
      "include_colab_link": true
    },
    "kernelspec": {
      "name": "python3",
      "display_name": "Python 3"
    },
    "language_info": {
      "name": "python"
    }
  },
  "cells": [
    {
      "cell_type": "markdown",
      "metadata": {
        "id": "view-in-github",
        "colab_type": "text"
      },
      "source": [
        "<a href=\"https://colab.research.google.com/github/blacksant0145/tareas/blob/main/tarea_tuplas.ipynb\" target=\"_parent\"><img src=\"https://colab.research.google.com/assets/colab-badge.svg\" alt=\"Open In Colab\"/></a>"
      ]
    },
    {
      "cell_type": "markdown",
      "source": [
        "crear una tupla y mostrar la posición tres"
      ],
      "metadata": {
        "id": "AQ285f2uWPu0"
      }
    },
    {
      "cell_type": "code",
      "execution_count": 1,
      "metadata": {
        "colab": {
          "base_uri": "https://localhost:8080/",
          "height": 35
        },
        "id": "x7T2IqdmRJqJ",
        "outputId": "161f7fb4-784b-4541-9953-59cde67bc8f1"
      },
      "outputs": [
        {
          "output_type": "execute_result",
          "data": {
            "text/plain": [
              "'date'"
            ],
            "application/vnd.google.colaboratory.intrinsic+json": {
              "type": "string"
            }
          },
          "metadata": {},
          "execution_count": 1
        }
      ],
      "source": [
        "frutas= (\"apple\", \"banana\", \"cherry\", \"date\", \"fig\", \"grape\")\n",
        "frutas[3]"
      ]
    },
    {
      "cell_type": "markdown",
      "source": [
        "crea una tupla y muestrala"
      ],
      "metadata": {
        "id": "oYhRCYMqWTu6"
      }
    },
    {
      "cell_type": "code",
      "source": [
        " fruits = (\"apple\", \"banana\", \"cherry\", \"date\", \"fig\", \"grape\")\n",
        " print(fruits)"
      ],
      "metadata": {
        "colab": {
          "base_uri": "https://localhost:8080/"
        },
        "id": "NYijSN0iTeKT",
        "outputId": "abd93d4e-c5cc-4b34-81ba-629bf9cae3e9"
      },
      "execution_count": 3,
      "outputs": [
        {
          "output_type": "stream",
          "name": "stdout",
          "text": [
            "('apple', 'banana', 'cherry', 'date', 'fig', 'grape')\n"
          ]
        }
      ]
    },
    {
      "cell_type": "markdown",
      "source": [
        "dada la tupla desempaqueta sus valores en tres variables y luego imprime cada variable"
      ],
      "metadata": {
        "id": "tqmUqykYUo1i"
      }
    },
    {
      "cell_type": "code",
      "source": [
        "colors = (\"red\", \"green\", \"blue\")\n",
        "red=0\n",
        "green=1\n",
        "blue=2\n",
        "print (red, green, blue)"
      ],
      "metadata": {
        "colab": {
          "base_uri": "https://localhost:8080/"
        },
        "id": "WOH0S7aSTw1s",
        "outputId": "435cd8d1-ccf9-4bbd-c134-31abb2f92ec5"
      },
      "execution_count": 6,
      "outputs": [
        {
          "output_type": "stream",
          "name": "stdout",
          "text": [
            "0 1 2\n"
          ]
        }
      ]
    },
    {
      "cell_type": "markdown",
      "source": [
        "Crea dos tuplas, una con los números  y otra con los números Concatenálas en una sola tupla y muestra el resultado"
      ],
      "metadata": {
        "id": "Lw3RUHzCUmqP"
      }
    },
    {
      "cell_type": "code",
      "source": [
        "num=(1,2,3)\n",
        "num_2=(4,5,6)\n",
        "print (num+num_2)"
      ],
      "metadata": {
        "colab": {
          "base_uri": "https://localhost:8080/"
        },
        "id": "iicrYzXEVNct",
        "outputId": "6f9d9caf-525b-400e-f0af-deec0485390d"
      },
      "execution_count": 7,
      "outputs": [
        {
          "output_type": "stream",
          "name": "stdout",
          "text": [
            "(1, 2, 3, 4, 5, 6)\n"
          ]
        }
      ]
    },
    {
      "cell_type": "markdown",
      "source": [
        "Crea una tupla con el elemento \"repeat\" y repítela 4 veces. Imprime el resultado."
      ],
      "metadata": {
        "id": "Z_flQA28Vo4L"
      }
    },
    {
      "cell_type": "code",
      "source": [
        "tupla=('repeat')\n",
        "tupla=('repeat')\n",
        "tupla=('repeat')\n",
        "tupla=('repeat')\n",
        "print(tupla)"
      ],
      "metadata": {
        "colab": {
          "base_uri": "https://localhost:8080/"
        },
        "id": "LlkBsCPmVf_z",
        "outputId": "41366cee-908d-4b1e-b14a-477dcd6de1f9"
      },
      "execution_count": 8,
      "outputs": [
        {
          "output_type": "stream",
          "name": "stdout",
          "text": [
            "repeat\n"
          ]
        }
      ]
    },
    {
      "cell_type": "markdown",
      "source": [
        "Dada la tupla numbers = (10, 20, 30, 40, 50), utiliza un bucle for para iterar sobre la tupla e imprimir cada número"
      ],
      "metadata": {
        "id": "R3fJkxrpWLep"
      }
    },
    {
      "cell_type": "code",
      "source": [
        "numbers=(10,20,30,40,50)\n",
        "for i in numbers:\n",
        "  print(i)"
      ],
      "metadata": {
        "colab": {
          "base_uri": "https://localhost:8080/"
        },
        "id": "Bq0ovi6LWiAM",
        "outputId": "9159201a-0bfe-429c-924a-619abbd4b21a"
      },
      "execution_count": 19,
      "outputs": [
        {
          "output_type": "stream",
          "name": "stdout",
          "text": [
            "10\n",
            "20\n",
            "30\n",
            "40\n",
            "50\n"
          ]
        }
      ]
    },
    {
      "cell_type": "markdown",
      "source": [
        "Crea una tupla que contenga otras dos tuplas: tuple1 = (1, 2, 3) y tuple2 = (\"a\", \"b\", \"c\"). Imprime la tupla anidada"
      ],
      "metadata": {
        "id": "1fcDPETkZyFa"
      }
    },
    {
      "cell_type": "code",
      "source": [
        "tupla_u=((1,2,3),(\"a\",\"b\",\"c\"))\n",
        "print(tupla_u)"
      ],
      "metadata": {
        "colab": {
          "base_uri": "https://localhost:8080/"
        },
        "id": "wEz_truBZxKi",
        "outputId": "e7f52020-64ec-41c1-82e6-9f383981209a"
      },
      "execution_count": 23,
      "outputs": [
        {
          "output_type": "stream",
          "name": "stdout",
          "text": [
            "((1, 2, 3), ('a', 'b', 'c'))\n"
          ]
        }
      ]
    },
    {
      "cell_type": "markdown",
      "source": [
        "Dada la tupla letters = (\"a\", \"b\", \"c\", \"d\"), verifica si la letra \"e\" está en la tupla e imprime un mensaje apropiado"
      ],
      "metadata": {
        "id": "dmzNG_3VbNUH"
      }
    },
    {
      "cell_type": "code",
      "source": [
        "letters=(\"a\",\"b\",\"c\",\"d\")\n",
        "if \"e\" in letters:\n",
        "  print(\"la letra esta en la tupla\")\n",
        "else:\n",
        "  print(\"la letra no esta en la tupla\")"
      ],
      "metadata": {
        "colab": {
          "base_uri": "https://localhost:8080/"
        },
        "id": "Ix0qjgXVbHfe",
        "outputId": "159c8287-98e0-471f-d554-ff7dc3c40b57"
      },
      "execution_count": 25,
      "outputs": [
        {
          "output_type": "stream",
          "name": "stdout",
          "text": [
            "la letra esta en la tupla\n"
          ]
        }
      ]
    },
    {
      "cell_type": "markdown",
      "source": [
        "Convierte la lista my_list = [100, 200, 300, 400] a una tupla e imprime la tupla resultante."
      ],
      "metadata": {
        "id": "TTCKP_fNbyVM"
      }
    },
    {
      "cell_type": "code",
      "source": [
        "my_list=[100,200,300,400]\n",
        "tupla_2=tuple(my_list)\n",
        "print(tupla_2)"
      ],
      "metadata": {
        "colab": {
          "base_uri": "https://localhost:8080/"
        },
        "id": "6-EjnONRb3d9",
        "outputId": "b716edfd-23f7-4af9-edf8-2f5dac000e4a"
      },
      "execution_count": 27,
      "outputs": [
        {
          "output_type": "stream",
          "name": "stdout",
          "text": [
            "(100, 200, 300, 400)\n"
          ]
        }
      ]
    },
    {
      "cell_type": "markdown",
      "source": [
        "Dada la tupla my_tuple = (5, 10, 15, 20, 25, 30, 35), imprime el valor en el índice 2 y una sub-tupla que contenga los elementos desde el índice 1 hasta el 4"
      ],
      "metadata": {
        "id": "_U6Vpi5tcj_E"
      }
    },
    {
      "cell_type": "code",
      "source": [
        "my_tuple=(5,10,15,20,25,30,35)\n",
        "print(my_tuple[2])\n",
        "sub_tupla=my_tuple[1:5]\n",
        "print(sub_tupla)"
      ],
      "metadata": {
        "colab": {
          "base_uri": "https://localhost:8080/"
        },
        "id": "eQxy8dpncn2E",
        "outputId": "59e34627-1cb9-49fa-c49b-0f16992e62d7"
      },
      "execution_count": 34,
      "outputs": [
        {
          "output_type": "stream",
          "name": "stdout",
          "text": [
            "15\n",
            "(10, 15, 20, 25)\n"
          ]
        }
      ]
    },
    {
      "cell_type": "code",
      "source": [],
      "metadata": {
        "id": "YmlT84rigcpE"
      },
      "execution_count": null,
      "outputs": []
    }
  ]
}