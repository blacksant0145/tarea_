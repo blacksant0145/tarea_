{
  "nbformat": 4,
  "nbformat_minor": 0,
  "metadata": {
    "colab": {
      "provenance": [],
      "authorship_tag": "ABX9TyM6WOagCojiI0SXXUjNyZ6Z",
      "include_colab_link": true
    },
    "kernelspec": {
      "name": "python3",
      "display_name": "Python 3"
    },
    "language_info": {
      "name": "python"
    }
  },
  "cells": [
    {
      "cell_type": "markdown",
      "metadata": {
        "id": "view-in-github",
        "colab_type": "text"
      },
      "source": [
        "<a href=\"https://colab.research.google.com/github/blacksant0145/tareas/blob/main/taller_preparacion_quiz.ipynb\" target=\"_parent\"><img src=\"https://colab.research.google.com/assets/colab-badge.svg\" alt=\"Open In Colab\"/></a>"
      ]
    },
    {
      "cell_type": "markdown",
      "source": [
        "*texto en cu dada una lista de números [100,30,20], conviértela a una tupla y luego regresa la tupla a una lista. Imprimir la lista finalrsiva*"
      ],
      "metadata": {
        "id": "Cot-DYWz76mx"
      }
    },
    {
      "cell_type": "code",
      "execution_count": 2,
      "metadata": {
        "colab": {
          "base_uri": "https://localhost:8080/"
        },
        "id": "EtLhOreb7VHJ",
        "outputId": "b769f986-6a82-4a44-ae55-cbe74b961da8"
      },
      "outputs": [
        {
          "output_type": "stream",
          "name": "stdout",
          "text": [
            "la lista final es  [100, 30, 20]\n"
          ]
        }
      ],
      "source": [
        "lista=[100,30,20]\n",
        "\n",
        "tupla_final = tuple(lista)\n",
        "lista_final=list(tupla_final)\n",
        "print(\"la lista final es \", lista_final)"
      ]
    },
    {
      "cell_type": "markdown",
      "source": [
        "Dada una tupla de camisas , debe crear un diccionario de precios por cada camisa. Luego almacene las camisas y precios y condicione si la lista de precios es mayor a 100"
      ],
      "metadata": {
        "id": "wXmuvCNvCKty"
      }
    },
    {
      "cell_type": "code",
      "source": [
        "\n",
        "camisas_precios = ((\"camisa1\", 30), (\"camisa2\", 50), (\"camisa3\", 40))\n",
        "\n",
        "\n",
        "diccionario_precios = {camisa: precio for camisa, precio in camisas_precios}\n",
        "\n",
        "\n",
        "lista_precios = list(diccionario_precios.values())\n",
        "\n",
        "\n",
        "precio_total = sum(lista_precios)\n",
        "\n",
        "if precio_total > 100:\n",
        "    print(\"El precio total es mayor a 100.\")\n",
        "else:\n",
        "    print(\"El precio total no es mayor a 100.\")\n",
        "\n",
        "\n",
        "print(\"Diccionario de precios:\", diccionario_precios)\n",
        "\n"
      ],
      "metadata": {
        "id": "2O_ksNmJ9hYA",
        "colab": {
          "base_uri": "https://localhost:8080/"
        },
        "outputId": "46b7781b-22ba-40cf-f730-dc88ef311285"
      },
      "execution_count": 5,
      "outputs": [
        {
          "output_type": "stream",
          "name": "stdout",
          "text": [
            "El precio total es mayor a 100.\n",
            "Diccionario de precios: {'camisa1': 30, 'camisa2': 50, 'camisa3': 40}\n"
          ]
        }
      ]
    },
    {
      "cell_type": "markdown",
      "source": [
        " Dada una lista de plalabras [\"manzana\", \"banana\", \"manzana\", \"pera\" , \"banana\"], cuenta cuántas veces aparece cada palabra y almacena los resultados."
      ],
      "metadata": {
        "id": "70vT6cC0NtTm"
      }
    },
    {
      "cell_type": "code",
      "source": [
        "frutas=[\"manzana\",\"banana\",\"manzana\",\"pera\",\"banana\"]\n",
        "conteo={}\n",
        "for fruta in frutas:\n",
        "  if fruta in conteo:\n",
        "     conteo[fruta] +=1\n",
        "  else:\n",
        "    conteo[fruta]=1\n",
        "print(conteo)\n"
      ],
      "metadata": {
        "colab": {
          "base_uri": "https://localhost:8080/"
        },
        "id": "iq-6W7xNN8P5",
        "outputId": "49b92067-7d08-4765-832e-36cbdd455326"
      },
      "execution_count": null,
      "outputs": [
        {
          "output_type": "stream",
          "name": "stdout",
          "text": [
            "{'manzana': 2, 'banana': 2, 'pera': 1}\n"
          ]
        }
      ]
    },
    {
      "cell_type": "markdown",
      "source": [
        "Crear un programa que permita al usuario almacenar datos enteros en una matriz y esos datos se sumen y luego realice su respectivo promedio"
      ],
      "metadata": {
        "id": "CctEy0HfQxeQ"
      }
    },
    {
      "cell_type": "code",
      "source": [
        " matriz = []\n",
        "\n",
        "\n",
        "for n in range(3):\n",
        "    lista = [int(input(\"Digite el número \")) for i in range(3)]\n",
        "    matriz.append(lista)\n",
        "\n",
        "for k in matriz:\n",
        "    print(\"[\", end=\" \")\n",
        "    for h in k:\n",
        "        print(h, end=\" \")\n",
        "    print(\"]\")\n",
        "\n",
        "filas = len(matriz)\n",
        "columnas = len(matriz[0])\n",
        "\n",
        "\n",
        "\n",
        "for v in range(filas):\n",
        "    suma = sum(matriz[v])\n",
        "    matriz[v].append(suma)\n",
        "\n",
        "print(\"Matriz con la suma de las filas:\")\n",
        "for k in matriz:\n",
        "    print(\"[\", end=\" \")\n",
        "    for h in k:\n",
        "        print(h, end=\" \")\n",
        "    print(\"]\")\n",
        "\n",
        "sum_colum = []\n",
        "\n",
        "\n",
        "for c in range(columnas):\n",
        "    suma = sum(fila[c] for fila in matriz)\n",
        "    sum_colum.append(suma)\n",
        "\n",
        "\n",
        "sum_colum.append(sum(sum_colum))\n",
        "\n",
        "\n",
        "matriz.append(sum_colum)\n",
        "\n",
        "print(\"Matriz final:\")\n",
        "for k in matriz:\n",
        "    print(\"[\", end=\" \")\n",
        "    for h in k:\n",
        "        print(h, end=\" \")\n",
        "    print(\"]\")\n",
        "\n",
        "print(\"El total de la matriz es: \",matriz[3][3] )"
      ],
      "metadata": {
        "id": "ln_Wwu7vO_Xu",
        "colab": {
          "base_uri": "https://localhost:8080/"
        },
        "outputId": "499d5b12-731c-4472-8649-1124e4d12662"
      },
      "execution_count": 4,
      "outputs": [
        {
          "output_type": "stream",
          "name": "stdout",
          "text": [
            "Digite el número 1\n",
            "Digite el número 2\n",
            "Digite el número 3\n",
            "Digite el número 4\n",
            "Digite el número 5\n",
            "Digite el número 6\n",
            "Digite el número 7\n",
            "Digite el número 8\n",
            "Digite el número 9\n",
            "[ 1 2 3 ]\n",
            "[ 4 5 6 ]\n",
            "[ 7 8 9 ]\n",
            "Matriz con la suma de las filas:\n",
            "[ 1 2 3 6 ]\n",
            "[ 4 5 6 15 ]\n",
            "[ 7 8 9 24 ]\n",
            "Matriz final:\n",
            "[ 1 2 3 6 ]\n",
            "[ 4 5 6 15 ]\n",
            "[ 7 8 9 24 ]\n",
            "[ 12 15 18 45 ]\n",
            "El total de la matriz es:  45\n"
          ]
        }
      ]
    },
    {
      "cell_type": "markdown",
      "source": [
        "Dada una lista de diccionarios que representan productos con su nombre y precio, calcula la suma total de los precios de todos los productos\n"
      ],
      "metadata": {
        "id": "yyTMj2EPRLLi"
      }
    },
    {
      "cell_type": "code",
      "source": [
        "productos=[{\"nombre\":\"producto1\",\"precio\":100},{\"nombre\":\"producto2\",\"precio\":30},{\"nombre\":\"producto3\",\"precio\":300},{\"nombre\":\"producto4\",\"precio\":200}]\n",
        "suma=sum(producto[\"precio\"] for producto in productos)\n",
        "print( \"la suma de los afrticulos es: \", suma)"
      ],
      "metadata": {
        "colab": {
          "base_uri": "https://localhost:8080/"
        },
        "id": "mcpDleHJRUCs",
        "outputId": "f46ef868-6abd-4809-8b21-13a349ba601e"
      },
      "execution_count": null,
      "outputs": [
        {
          "output_type": "stream",
          "name": "stdout",
          "text": [
            "la suma de los afrticulos es:  630\n"
          ]
        }
      ]
    }
  ]
}