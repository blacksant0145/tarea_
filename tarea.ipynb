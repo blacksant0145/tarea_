{
  "nbformat": 4,
  "nbformat_minor": 0,
  "metadata": {
    "colab": {
      "provenance": [],
      "authorship_tag": "ABX9TyMUc/cU5pnDQZxuatdXE/Ss",
      "include_colab_link": true
    },
    "kernelspec": {
      "name": "python3",
      "display_name": "Python 3"
    },
    "language_info": {
      "name": "python"
    }
  },
  "cells": [
    {
      "cell_type": "markdown",
      "metadata": {
        "id": "view-in-github",
        "colab_type": "text"
      },
      "source": [
        "<a href=\"https://colab.research.google.com/github/blacksant0145/tarea_/blob/main/tarea.ipynb\" target=\"_parent\"><img src=\"https://colab.research.google.com/assets/colab-badge.svg\" alt=\"Open In Colab\"/></a>"
      ]
    },
    {
      "cell_type": "markdown",
      "source": [
        "SUMA DE UNA MATRIZ"
      ],
      "metadata": {
        "id": "JSuIm4Ccr999"
      }
    },
    {
      "cell_type": "code",
      "execution_count": null,
      "metadata": {
        "colab": {
          "base_uri": "https://localhost:8080/"
        },
        "id": "N9sZZhuDfO4M",
        "outputId": "10b4cda8-f375-430c-e226-9ef8e7a62d5f"
      },
      "outputs": [
        {
          "output_type": "stream",
          "name": "stdout",
          "text": [
            "///////BIENVENID@///////\n",
            "Digite el número 2\n",
            "Digite el número 89\n",
            "Digite el número 100\n",
            "Digite el número 1\n",
            "Digite el número 0\n",
            "Digite el número 10\n",
            "Digite el número 4\n",
            "Digite el número 6\n",
            "Digite el número 8\n",
            "[ 2 89 100 ]\n",
            "[ 1 0 10 ]\n",
            "[ 4 6 8 ]\n",
            "Matriz con la suma de las filas:\n",
            "[ 2 89 100 191 ]\n",
            "[ 1 0 10 11 ]\n",
            "[ 4 6 8 18 ]\n",
            "Matriz final:\n",
            "[ 2 89 100 191 ]\n",
            "[ 1 0 10 11 ]\n",
            "[ 4 6 8 18 ]\n",
            "[ 7 95 118 220 ]\n",
            "El total de la matriz es:  220\n",
            "//////GRACIAS POR UTILIZAR EL PROGRAMA ;)\n"
          ]
        }
      ],
      "source": [
        "\n",
        "print(\"///////BIENVENID@///////\")\n",
        "matriz = []\n",
        "\n",
        "#pide al usuario los valores para la matriz\n",
        "for n in range(3):\n",
        "    lista = [int(input(\"Digite el número \")) for i in range(3)]\n",
        "    matriz.append(lista)\n",
        "#estructura de la matriz\n",
        "for k in matriz:\n",
        "    print(\"[\", end=\" \")\n",
        "    for h in k:\n",
        "        print(h, end=\" \")\n",
        "    print(\"]\")\n",
        "#cuenta la cantidad de valores tanto en filas y columnas\n",
        "filas = len(matriz)\n",
        "columnas = len(matriz[0])\n",
        "\n",
        "\n",
        "# Agregar la suma de cada fila al final de cada fila\n",
        "for v in range(filas):\n",
        "    suma = sum(matriz[v])\n",
        "    matriz[v].append(suma)\n",
        "#matriz con la suma de las filas\n",
        "print(\"Matriz con la suma de las filas:\")\n",
        "for k in matriz:\n",
        "    print(\"[\", end=\" \")\n",
        "    for h in k:\n",
        "        print(h, end=\" \")\n",
        "    print(\"]\")\n",
        "\n",
        "sum_colum = []\n",
        "\n",
        "# Calcular la suma de cada columna\n",
        "for c in range(columnas):\n",
        "    suma = sum(fila[c] for fila in matriz)\n",
        "    sum_colum.append(suma)\n",
        "\n",
        "# Calcular la suma total de las sumas de columnas\n",
        "sum_colum.append(sum(sum_colum))\n",
        "\n",
        "# Agregar la fila de sumas de columnas a la matriz\n",
        "matriz.append(sum_colum)\n",
        "\n",
        "print(\"Matriz final:\")\n",
        "for k in matriz:\n",
        "    print(\"[\", end=\" \")\n",
        "    for h in k:\n",
        "        print(h, end=\" \")\n",
        "    print(\"]\")\n",
        "#muestra el valor total de la suma de la matriz\n",
        "print(\"El total de la matriz es: \",matriz[3][3] )\n",
        "print(\"//////GRACIAS POR UTILIZAR EL PROGRAMA ;)///////\")"
      ]
    },
    {
      "cell_type": "markdown",
      "source": [
        "VALOR MAXIMO DE UNA MATRIZ"
      ],
      "metadata": {
        "id": "uD5aoCY2pUzB"
      }
    },
    {
      "cell_type": "code",
      "source": [
        "print(\"//////BUENVENID@////////////\")\n",
        "matriz_2=[]\n",
        "lista_2=[]\n",
        "\n",
        "#pide al usuario los valores para la matriz\n",
        "for i in range (3):\n",
        "  lista_2=[int(input(\"digite número\")) for c in range(3)]\n",
        "  matriz_2.append(lista_2)\n",
        "\n",
        "#estructura de la matriz\n",
        "for k in matriz_2:\n",
        "  print(\"[\", end=\" \")\n",
        "  for h in k:\n",
        "    print(h,end=\" \")\n",
        "  print(\"]\")\n",
        "\n",
        "#cuenta el numero de valores en filas y columnas\n",
        "filas_2=len(matriz_2)\n",
        "columnas_2=len(matriz_2[0])\n",
        "\n",
        "#busca el mayor numero que hay en la matriz\n",
        "valor_max = max(max (filas_2) for filas_2 in matriz_2)\n",
        "\n",
        "#muestra el mayor numero en la matriz\n",
        "print(\"el valor maximo de la matriz es: \", valor_max)\n",
        "print(\"//////GRACIAS POR UTILIZAR EL PROGRAMA ;)///////\")"
      ],
      "metadata": {
        "id": "W7tZxlooOdxP",
        "colab": {
          "base_uri": "https://localhost:8080/"
        },
        "outputId": "11097664-33fb-4915-9224-877afb3c511a"
      },
      "execution_count": null,
      "outputs": [
        {
          "output_type": "stream",
          "name": "stdout",
          "text": [
            "//////BUENVENID@////////////\n",
            "digite número1\n",
            "digite número100\n",
            "digite número2\n",
            "digite número300\n",
            "digite número1\n",
            "digite número500\n",
            "digite número2\n",
            "digite número1\n",
            "digite número2\n",
            "[ 1 100 2 ]\n",
            "[ 300 1 500 ]\n",
            "[ 2 1 2 ]\n",
            "el valor maximo de la matriz es:  500\n",
            "//////gracias por utilizar el programa ;)////////\n"
          ]
        }
      ]
    },
    {
      "cell_type": "markdown",
      "source": [
        "FILTRO MAYORES QUE 50"
      ],
      "metadata": {
        "id": "uxoIZEHtaYc1"
      }
    },
    {
      "cell_type": "code",
      "source": [
        "print(\"//////BUENVENID@////////////\")\n",
        "matriz_3=[]\n",
        "lista_3=[]\n",
        "lista_f=[]\n",
        "\n",
        "#pide al usuario los valores para la matriz\n",
        "for i in range (3):\n",
        "  lista_3=[int(input(\"digite número\")) for c in range(3)]\n",
        "  matriz_3.append(lista_3)\n",
        "\n",
        "#estructura de la matriz\n",
        "for k in matriz_3:\n",
        "  print(\"[\", end=\" \")\n",
        "  for h in k:\n",
        "    print(h,end=\" \")\n",
        "  print(\"]\")\n",
        "\n",
        "#cuenta la cantidad de valores tanto en filas y columnas\n",
        "filas_3=len(matriz_3)\n",
        "columnas_3=len(matriz_3[0])\n",
        "\n",
        "#flitra los valores mayores que 50 y los guarda en una lista vacia\n",
        "for filas_3 in matriz_3:\n",
        "  for valor in filas_3:\n",
        "    if valor > 50:\n",
        "      lista_f.append(valor)\n",
        "\n",
        "#muestra la lista con los numeros mayores que 50\n",
        "print( \"los valor mayores a 50mpresentes en la matriz son: \",lista_f)\n",
        "print(\"//////GRACIAS POR UTILIZAR EL PROGRAMA ;)///////\")"
      ],
      "metadata": {
        "colab": {
          "base_uri": "https://localhost:8080/"
        },
        "id": "fE_o-ZISadWg",
        "outputId": "295c7182-0f06-475b-a41f-932afc5e2d50"
      },
      "execution_count": null,
      "outputs": [
        {
          "output_type": "stream",
          "name": "stdout",
          "text": [
            "//////BUENVENID@////////////\n",
            "digite número100\n",
            "digite número1\n",
            "digite número2\n",
            "digite número200\n",
            "digite número1\n",
            "digite número1\n",
            "digite número300\n",
            "digite número1\n",
            "digite número1\n",
            "[ 100 1 2 ]\n",
            "[ 200 1 1 ]\n",
            "[ 300 1 1 ]\n",
            "[100, 200, 300]\n"
          ]
        }
      ]
    }
  ]
}